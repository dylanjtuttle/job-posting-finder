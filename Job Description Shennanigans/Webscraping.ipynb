{
 "cells": [
  {
   "cell_type": "code",
   "execution_count": 1,
   "id": "a9e68d20-ac52-4ff6-bfbc-59a99cd5f1e4",
   "metadata": {},
   "outputs": [],
   "source": [
    "import requests\n",
    "from bs4 import BeautifulSoup"
   ]
  },
  {
   "cell_type": "code",
   "execution_count": 2,
   "id": "c9f52726-f072-4523-b001-a2084ea759f5",
   "metadata": {},
   "outputs": [],
   "source": [
    "#Takes a list of jobs for alberta job board. \n",
    "#Scrapes job description. \n",
    "#Returns a list of job information. The job information structure will be a dictionary with the following keywords. \n",
    "    #job title\n",
    "    #company\n",
    "    #date posted. \n",
    "    #location\n",
    "    #description\n",
    "    #details \n",
    "\n",
    "#pickels information to be saved in a seperate file. \n",
    "\n",
    "def webscrape_page(jobs, home_url, page_url):\n",
    "\n",
    "    job_list = []\n",
    "\n",
    "    for job in jobs:\n",
    "\n",
    "        job_dict = {}\n",
    "        \n",
    "        job_title = job.find(\"div\", {\"class\" : \"text-16 list-item-title text-limit text-bold\"})\n",
    "        job_dict[\"title\"] = job_title.text\n",
    "        \n",
    "        company = job.find(lambda tag: tag.name == \"div\" and tag.get(\"class\") == [\"text-limit\"])\n",
    "        job_dict[\"company\"] = company.text\n",
    "        \n",
    "        date_posted = job.find(\"strong\")\n",
    "        job_dict[\"date\"] = date_posted.text\n",
    "        \n",
    "        location = job.find(\"div\", {\"class\" : \"col-xs-12 col-sm-4 text-right xs-text-left u_p-none\"})\n",
    "        location = str(location).split(\"</strong>\")[1]\n",
    "        job_dict[\"location\"] = location\n",
    "\n",
    "        #Scrape description\n",
    "\n",
    "        job_description_url = home_url + job[\"href\"]\n",
    "        #print(job_description_url)\n",
    "        \n",
    "        response = requests.get(job_description_url)\n",
    "\n",
    "        description_soup = BeautifulSoup(response.content, \"html.parser\")\n",
    "\n",
    "        job_descrip = description_soup.find(\"div\", {\"class\": \"clearfix u_text--90 u_mb-base u_overflow-hidden\"})\n",
    "\n",
    "\n",
    "        details =  description_soup.find_all(\"div\", {\"class\": \"rf_tag u_mb-xxs u_mr-xxs\"})\n",
    "        details.append(description_soup.find_all(\"a\", {\"class\": \"rf_tag u_mb-xxs u_mr-xxs\"}))\n",
    "\n",
    "        job_dict[\"descrip\"] = job_descrip.text\n",
    "\n",
    "        job_dict[\"details\"] = details\n",
    "\n",
    "        job_list.append(job_dict)\n",
    "\n",
    "\n",
    "    return job_list"
   ]
  },
  {
   "cell_type": "code",
   "execution_count": 3,
   "id": "0ac72cd3-0840-4fd5-b9c0-6381ccb1f92d",
   "metadata": {},
   "outputs": [],
   "source": [
    "import re\n",
    "import pickle\n",
    "import sys\n",
    "\n",
    "def webscrape_site(home_url, page_url, filename):\n",
    "\n",
    "\n",
    "    job_list = []\n",
    "\n",
    "    while True:\n",
    "\n",
    "        jobs = []\n",
    "        \n",
    "        response = requests.get(page_url)\n",
    "\n",
    "        soup = BeautifulSoup(response.content, \"html.parser\")\n",
    "    \n",
    "        jobs = jobs + soup.find_all(\"a\" ,{\"class\" : \"list-item-wrapper clearfix odd\" })\n",
    "        jobs = jobs + soup.find_all(\"a\", {\"class\":\"list-item-wrapper clearfix even\"})\n",
    "\n",
    "        job_list = job_list + webscrape_page(jobs, home_url, page_url)\n",
    "        \n",
    "\n",
    "        next_button = soup.find(\"a\", attrs={\"class\": \"btn btn-custom btn-default btn-sm\" , \"alt\": \"Next\"})\n",
    "\n",
    "        if next_button == None: \n",
    "            f = open(filename, \"wb\")\n",
    "            sys.setrecursionlimit(10000)\n",
    "            pickle.dump(job_list, f)\n",
    "            f.close()\n",
    "            return job_list\n",
    "\n",
    "        page_url = home_url + next_button[\"href\"]\n",
    "        print(page_url)\n"
   ]
  },
  {
   "cell_type": "code",
   "execution_count": 4,
   "id": "616cd15d-f5c4-4117-89d0-7c7244191f3e",
   "metadata": {},
   "outputs": [
    {
     "name": "stdout",
     "output_type": "stream",
     "text": [
      "https://www.albertajobcentre.ca/search-jobs?q=software+development&location=&page=2\n",
      "https://www.albertajobcentre.ca/search-jobs?q=software+development&location=&page=3\n",
      "https://www.albertajobcentre.ca/search-jobs?q=software+development&location=&page=4\n",
      "https://www.albertajobcentre.ca/search-jobs?q=software+development&location=&page=5\n",
      "https://www.albertajobcentre.ca/search-jobs?q=software+development&location=&page=6\n",
      "https://www.albertajobcentre.ca/search-jobs?q=software+development&location=&page=7\n"
     ]
    },
    {
     "data": {
      "text/plain": [
       "70"
      ]
     },
     "execution_count": 4,
     "metadata": {},
     "output_type": "execute_result"
    }
   ],
   "source": [
    "jobs = webscrape_site(\"https://www.albertajobcentre.ca\" , \"https://www.albertajobcentre.ca/search-jobs?q=software+development&location=#page=1\", \"/Users/rachelralph/Desktop/abjobs-data\")\n",
    "len(jobs)"
   ]
  },
  {
   "cell_type": "code",
   "execution_count": 5,
   "id": "3bf6ade1-36dd-4f78-a8b4-30ee18439190",
   "metadata": {},
   "outputs": [
    {
     "name": "stdout",
     "output_type": "stream",
     "text": [
      "https://www.bcjobs.ca/search-jobs?q=software+development&location=&page=2\n",
      "https://www.bcjobs.ca/search-jobs?q=software+development&location=&page=3\n",
      "https://www.bcjobs.ca/search-jobs?q=software+development&location=&page=4\n",
      "https://www.bcjobs.ca/search-jobs?q=software+development&location=&page=5\n",
      "https://www.bcjobs.ca/search-jobs?q=software+development&location=&page=6\n",
      "https://www.bcjobs.ca/search-jobs?q=software+development&location=&page=7\n",
      "https://www.bcjobs.ca/search-jobs?q=software+development&location=&page=8\n",
      "https://www.bcjobs.ca/search-jobs?q=software+development&location=&page=9\n",
      "https://www.bcjobs.ca/search-jobs?q=software+development&location=&page=10\n",
      "https://www.bcjobs.ca/search-jobs?q=software+development&location=&page=11\n",
      "https://www.bcjobs.ca/search-jobs?q=software+development&location=&page=12\n",
      "https://www.bcjobs.ca/search-jobs?q=software+development&location=&page=13\n",
      "https://www.bcjobs.ca/search-jobs?q=software+development&location=&page=14\n",
      "https://www.bcjobs.ca/search-jobs?q=software+development&location=&page=15\n",
      "https://www.bcjobs.ca/search-jobs?q=software+development&location=&page=16\n",
      "https://www.bcjobs.ca/search-jobs?q=software+development&location=&page=17\n",
      "https://www.bcjobs.ca/search-jobs?q=software+development&location=&page=18\n",
      "https://www.bcjobs.ca/search-jobs?q=software+development&location=&page=19\n",
      "https://www.bcjobs.ca/search-jobs?q=software+development&location=&page=20\n",
      "https://www.bcjobs.ca/search-jobs?q=software+development&location=&page=21\n",
      "https://www.bcjobs.ca/search-jobs?q=software+development&location=&page=22\n",
      "https://www.bcjobs.ca/search-jobs?q=software+development&location=&page=23\n",
      "https://www.bcjobs.ca/search-jobs?q=software+development&location=&page=24\n",
      "https://www.bcjobs.ca/search-jobs?q=software+development&location=&page=25\n",
      "https://www.bcjobs.ca/search-jobs?q=software+development&location=&page=26\n",
      "https://www.bcjobs.ca/search-jobs?q=software+development&location=&page=27\n",
      "https://www.bcjobs.ca/search-jobs?q=software+development&location=&page=28\n",
      "https://www.bcjobs.ca/search-jobs?q=software+development&location=&page=29\n",
      "https://www.bcjobs.ca/search-jobs?q=software+development&location=&page=30\n",
      "https://www.bcjobs.ca/search-jobs?q=software+development&location=&page=31\n",
      "https://www.bcjobs.ca/search-jobs?q=software+development&location=&page=32\n",
      "https://www.bcjobs.ca/search-jobs?q=software+development&location=&page=33\n",
      "https://www.bcjobs.ca/search-jobs?q=software+development&location=&page=34\n",
      "https://www.bcjobs.ca/search-jobs?q=software+development&location=&page=35\n",
      "https://www.bcjobs.ca/search-jobs?q=software+development&location=&page=36\n",
      "https://www.bcjobs.ca/search-jobs?q=software+development&location=&page=37\n",
      "https://www.bcjobs.ca/search-jobs?q=software+development&location=&page=38\n",
      "https://www.bcjobs.ca/search-jobs?q=software+development&location=&page=39\n",
      "https://www.bcjobs.ca/search-jobs?q=software+development&location=&page=40\n",
      "https://www.bcjobs.ca/search-jobs?q=software+development&location=&page=41\n",
      "https://www.bcjobs.ca/search-jobs?q=software+development&location=&page=42\n",
      "https://www.bcjobs.ca/search-jobs?q=software+development&location=&page=43\n",
      "https://www.bcjobs.ca/search-jobs?q=software+development&location=&page=44\n",
      "https://www.bcjobs.ca/search-jobs?q=software+development&location=&page=45\n",
      "https://www.bcjobs.ca/search-jobs?q=software+development&location=&page=46\n",
      "https://www.bcjobs.ca/search-jobs?q=software+development&location=&page=47\n",
      "https://www.bcjobs.ca/search-jobs?q=software+development&location=&page=48\n",
      "https://www.bcjobs.ca/search-jobs?q=software+development&location=&page=49\n",
      "https://www.bcjobs.ca/search-jobs?q=software+development&location=&page=50\n",
      "https://www.bcjobs.ca/search-jobs?q=software+development&location=&page=51\n",
      "https://www.bcjobs.ca/search-jobs?q=software+development&location=&page=52\n",
      "https://www.bcjobs.ca/search-jobs?q=software+development&location=&page=53\n",
      "https://www.bcjobs.ca/search-jobs?q=software+development&location=&page=54\n",
      "https://www.bcjobs.ca/search-jobs?q=software+development&location=&page=55\n",
      "https://www.bcjobs.ca/search-jobs?q=software+development&location=&page=56\n",
      "https://www.bcjobs.ca/search-jobs?q=software+development&location=&page=57\n",
      "https://www.bcjobs.ca/search-jobs?q=software+development&location=&page=58\n",
      "https://www.bcjobs.ca/search-jobs?q=software+development&location=&page=59\n",
      "https://www.bcjobs.ca/search-jobs?q=software+development&location=&page=60\n",
      "https://www.bcjobs.ca/search-jobs?q=software+development&location=&page=61\n",
      "https://www.bcjobs.ca/search-jobs?q=software+development&location=&page=62\n",
      "https://www.bcjobs.ca/search-jobs?q=software+development&location=&page=63\n"
     ]
    },
    {
     "data": {
      "text/plain": [
       "627"
      ]
     },
     "execution_count": 5,
     "metadata": {},
     "output_type": "execute_result"
    }
   ],
   "source": [
    "jobs = webscrape_site(\"https://www.bcjobs.ca\" , \"https://www.bcjobs.ca/search-jobs?q=software+development&location=#page=1\", \"/Users/rachelralph/Desktop/bcjobs-data\")\n",
    "len(jobs)"
   ]
  },
  {
   "cell_type": "code",
   "execution_count": null,
   "id": "97237cee-40d3-4b38-9516-da7dc6f493f6",
   "metadata": {},
   "outputs": [],
   "source": []
  }
 ],
 "metadata": {
  "kernelspec": {
   "display_name": "Python 3 (ipykernel)",
   "language": "python",
   "name": "python3"
  },
  "language_info": {
   "codemirror_mode": {
    "name": "ipython",
    "version": 3
   },
   "file_extension": ".py",
   "mimetype": "text/x-python",
   "name": "python",
   "nbconvert_exporter": "python",
   "pygments_lexer": "ipython3",
   "version": "3.11.2"
  }
 },
 "nbformat": 4,
 "nbformat_minor": 5
}
